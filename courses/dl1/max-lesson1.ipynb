{
 "cells": [
  {
   "cell_type": "code",
   "execution_count": 14,
   "metadata": {},
   "outputs": [],
   "source": [
    "PATH = '/home/fazzl/data/dogscats/'"
   ]
  },
  {
   "cell_type": "code",
   "execution_count": 18,
   "metadata": {},
   "outputs": [
    {
     "name": "stdout",
     "output_type": "stream",
     "text": [
      "train  valid\r\n"
     ]
    }
   ],
   "source": [
    "!ls {PATH}sample"
   ]
  },
  {
   "cell_type": "code",
   "execution_count": 20,
   "metadata": {},
   "outputs": [
    {
     "name": "stdout",
     "output_type": "stream",
     "text": [
      "total 152\r\n",
      "-rw-rw-r-- 1 fazzl fazzl 15310 10月  4  2016 cat.11737.jpg\r\n",
      "-rw-rw-r-- 1 fazzl fazzl 22123 10月  4  2016 cat.2266.jpg\r\n",
      "-rw-rw-r-- 1 fazzl fazzl 12313 10月  4  2016 cat.2921.jpg\r\n",
      "-rw-rw-r-- 1 fazzl fazzl 22452 10月  4  2016 cat.3570.jpg\r\n",
      "-rw-rw-r-- 1 fazzl fazzl 20134 10月  4  2016 cat.394.jpg\r\n",
      "-rw-rw-r-- 1 fazzl fazzl 12676 10月  4  2016 cat.4600.jpg\r\n",
      "-rw-rw-r-- 1 fazzl fazzl 21874 10月  4  2016 cat.4865.jpg\r\n",
      "-rw-rw-r-- 1 fazzl fazzl  9771 10月  4  2016 cat.9021.jpg\r\n"
     ]
    }
   ],
   "source": [
    "!ls -l {PATH}sample/train/cats"
   ]
  },
  {
   "cell_type": "code",
   "execution_count": 21,
   "metadata": {},
   "outputs": [
    {
     "name": "stdout",
     "output_type": "stream",
     "text": [
      "total 152\r\n",
      "-rw-rw-r-- 1 fazzl fazzl 15310 10月  4  2016 cat.11737.jpg\r\n",
      "-rw-rw-r-- 1 fazzl fazzl 22123 10月  4  2016 cat.2266.jpg\r\n",
      "-rw-rw-r-- 1 fazzl fazzl 12313 10月  4  2016 cat.2921.jpg\r\n",
      "-rw-rw-r-- 1 fazzl fazzl 22452 10月  4  2016 cat.3570.jpg\r\n",
      "-rw-rw-r-- 1 fazzl fazzl 20134 10月  4  2016 cat.394.jpg\r\n",
      "-rw-rw-r-- 1 fazzl fazzl 12676 10月  4  2016 cat.4600.jpg\r\n",
      "-rw-rw-r-- 1 fazzl fazzl 21874 10月  4  2016 cat.4865.jpg\r\n",
      "-rw-rw-r-- 1 fazzl fazzl  9771 10月  4  2016 cat.9021.jpg\r\n"
     ]
    }
   ],
   "source": [
    "# in this case, grep ^[^d] mathces all strings that DO NOT START WITH 'd'\n",
    "# this means it will match all lines that are not files\n",
    "# \n",
    "!ls -l {PATH}sample/train/cats | grep ^[^d]"
   ]
  },
  {
   "cell_type": "code",
   "execution_count": 33,
   "metadata": {},
   "outputs": [
    {
     "name": "stdout",
     "output_type": "stream",
     "text": [
      "total 292\r\n",
      "drwxrwxr-x 2 fazzl fazzl   4096 3月  15 14:29 models\r\n",
      "drwxrwxr-x 4 fazzl fazzl   4096 3月  15 13:08 sample\r\n",
      "drwxr-xr-x 2 fazzl fazzl 278528 3月  15 13:09 test1\r\n",
      "drwxrwxr-x 5 fazzl fazzl   4096 3月  15 13:27 tmp\r\n",
      "drwxr-xr-x 4 fazzl fazzl   4096 3月  15 13:08 train\r\n",
      "drwxrwxr-x 4 fazzl fazzl   4096 3月  15 13:09 valid\r\n"
     ]
    }
   ],
   "source": [
    "!ls -l {PATH}"
   ]
  },
  {
   "cell_type": "code",
   "execution_count": 34,
   "metadata": {},
   "outputs": [
    {
     "name": "stdout",
     "output_type": "stream",
     "text": [
      "0\r\n"
     ]
    }
   ],
   "source": [
    "!ls -l {PATH} | grep ^[^dt] | wc -l"
   ]
  },
  {
   "cell_type": "code",
   "execution_count": 28,
   "metadata": {},
   "outputs": [
    {
     "name": "stdout",
     "output_type": "stream",
     "text": [
      "total 292\r\n",
      "drwxrwxr-x 2 fazzl fazzl   4096 3月  15 14:29 models\r\n",
      "drwxrwxr-x 4 fazzl fazzl   4096 3月  15 13:08 sample\r\n",
      "drwxr-xr-x 2 fazzl fazzl 278528 3月  15 13:09 test1\r\n",
      "drwxrwxr-x 5 fazzl fazzl   4096 3月  15 13:27 tmp\r\n",
      "drwxr-xr-x 4 fazzl fazzl   4096 3月  15 13:08 train\r\n",
      "drwxrwxr-x 4 fazzl fazzl   4096 3月  15 13:09 valid\r\n"
     ]
    }
   ],
   "source": [
    "!ls -l {PATH}"
   ]
  },
  {
   "cell_type": "code",
   "execution_count": 36,
   "metadata": {},
   "outputs": [],
   "source": [
    "k = !ls -l {PATH} | grep ^d"
   ]
  },
  {
   "cell_type": "code",
   "execution_count": 37,
   "metadata": {},
   "outputs": [
    {
     "data": {
      "text/plain": [
       "IPython.utils.text.SList"
      ]
     },
     "execution_count": 37,
     "metadata": {},
     "output_type": "execute_result"
    }
   ],
   "source": [
    "type(k)"
   ]
  },
  {
   "cell_type": "code",
   "execution_count": 42,
   "metadata": {},
   "outputs": [
    {
     "name": "stdout",
     "output_type": "stream",
     "text": [
      "drwxrwxr-x 2 fazzl fazzl   4096 3月  15 14:29 models\n",
      "drwxrwxr-x 4 fazzl fazzl   4096 3月  15 13:08 sample\n",
      "drwxr-xr-x 2 fazzl fazzl 278528 3月  15 13:09 test1\n",
      "drwxrwxr-x 5 fazzl fazzl   4096 3月  15 13:27 tmp\n",
      "drwxr-xr-x 4 fazzl fazzl   4096 3月  15 13:08 train\n",
      "drwxrwxr-x 4 fazzl fazzl   4096 3月  15 13:09 valid\n"
     ]
    }
   ],
   "source": [
    "files = !ls {PATH}valid/cats | head\n",
    "files"
   ]
  },
  {
   "cell_type": "code",
   "execution_count": null,
   "metadata": {},
   "outputs": [],
   "source": [
    "img = plt.imread(f'{PATH}valid/cats/{files[0]}')\n",
    "plt.imshow(img);"
   ]
  },
  {
   "cell_type": "code",
   "execution_count": null,
   "metadata": {},
   "outputs": [],
   "source": [
    "# plot a vertical line on LR sched plot\n",
    "import matplotlib.pyplot as plt\n",
    "learn.sched.plot()\n",
    "plt.axvline(x=1.6e-2, color=\"red\");"
   ]
  }
 ],
 "metadata": {
  "kernelspec": {
   "display_name": "Python 3",
   "language": "python",
   "name": "python3"
  },
  "language_info": {
   "codemirror_mode": {
    "name": "ipython",
    "version": 3
   },
   "file_extension": ".py",
   "mimetype": "text/x-python",
   "name": "python",
   "nbconvert_exporter": "python",
   "pygments_lexer": "ipython3",
   "version": "3.6.4"
  }
 },
 "nbformat": 4,
 "nbformat_minor": 2
}
